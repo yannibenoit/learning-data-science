{
 "cells": [
  {
   "cell_type": "markdown",
   "metadata": {},
   "source": [
    "# Evaluating Models Performance\n",
    "\n",
    "## R-squared intuition\n",
    "\n",
    "We first talked about this parameters when we where minimizing the sum of square of the differences between our observations and what is predicted.\n",
    "\n",
    "The sum of the differences between our observation and their projections to the  regression line is the  __sum of square of residuals__\n",
    "\n",
    "<img src=\"img/Linear_Regression.png\" width=\"600\" height=\"300\">\n",
    "\n",
    "Instead of the using the regression line, let's use the average line and projects our observations to this line. The sum of square distances (differences between our observation and their projections to the avg line) is the  __total sum of square__\n",
    "\n",
    "So the R-squared is equal to 1 - (__total sum of residuals square__ / __total sum of square__)\n",
    "\n",
    "<img src=\"img/R_squared.png\" width=\"600\" height=\"300\">\n",
    "\n",
    "With regression, we are trying to fit a line to minimize the sum of square of residuals and trying to fit the best line. For a best fit , the r-squared much be really closer to 1.\n",
    "\n",
    "## Adjusted R-squared intuition\n",
    "\n",
    "When we add more variables to our model, R-squared will never descrease so you will never know if it's helping or not.\n",
    "So we need to use an other parameter called __\"Adjusted R-squared\"__\n",
    "\n",
    "<img src=\"img/Adj_R_squared.png\" width=\"600\" height=\"300\">\n",
    "\n",
    "\n",
    "p is the number of independent variables. If it increase R-squared also but the Adj R-squared decrease.\n",
    "\n",
    "\n",
    "## Summary\n",
    "After learning about these six regression models, you are probably asking yourself the following questions:\n",
    "\n",
    "    What are the pros and cons of each model ?\n",
    "    How do I know which model to choose for my problem ?\n",
    "    How can I improve each of these models ?\n",
    "\n",
    "Let's answer each of these questions one by one:\n",
    "\n",
    "### What are the pros and cons of each model ?\n",
    "\n",
    "Please find [here](https://www.superdatascience.com/wp-content/uploads/2017/02/Regression-Pros-Cons.pdf) a cheat-sheet that gives you all the pros and the cons of each regression model.\n",
    "\n",
    "### How do I know which model to choose for my problem ?\n",
    "\n",
    "First, you need to figure out whether your problem is linear or non linear. You will learn how to do that in Part 10 - Model Selection. Then:\n",
    "\n",
    "If your problem is linear, you should go for Simple Linear Regression if you only have one feature, and Multiple Linear Regression if you have several features.\n",
    "\n",
    "If your problem is non linear, you should go for Polynomial Regression, SVR, Decision Tree or Random Forest. Then which one should you choose among these four ? That you will learn in Part 10 - Model Selection. The method consists of using a very relevant technique that evaluates your models performance, called k-Fold Cross Validation, and then picking the model that shows the best results. Feel free to jump directly to Part 10 if you already want to learn how to do that.\n",
    "\n",
    "### How can I improve each of these models ?\n",
    "\n",
    "In Part 10 - Model Selection, you will find the second section dedicated to Parameter Tuning, that will allow you to improve the performance of your models, by tuning them. You probably already noticed that each model is composed of two types of parameters:\n",
    "\n",
    "    the parameters that are learnt, for example the coefficients in Linear Regression,\n",
    "    the hyperparameters.\n",
    "\n",
    "The hyperparameters are the parameters that are not learnt and that are fixed values inside the model equations. For example, the regularization parameter lambda or the penalty parameter C are hyperparameters. So far we used the default value of these hyperparameters, and we haven't searched for their optimal value so that your model reaches even higher performance. Finding their optimal value is exactly what Parameter Tuning is about. So for those of you already interested in improving your model performance and doing some parameter tuning, feel free to jump directly to Part 10 - Model Selection.\n",
    "\n",
    "And as a BONUS, please find here some slides we made about Regularization."
   ]
  },
  {
   "cell_type": "code",
   "execution_count": null,
   "metadata": {},
   "outputs": [],
   "source": []
  }
 ],
 "metadata": {
  "kernelspec": {
   "display_name": "Python 3",
   "language": "python",
   "name": "python3"
  },
  "language_info": {
   "codemirror_mode": {
    "name": "ipython",
    "version": 3
   },
   "file_extension": ".py",
   "mimetype": "text/x-python",
   "name": "python",
   "nbconvert_exporter": "python",
   "pygments_lexer": "ipython3",
   "version": "3.6.3"
  }
 },
 "nbformat": 4,
 "nbformat_minor": 2
}
