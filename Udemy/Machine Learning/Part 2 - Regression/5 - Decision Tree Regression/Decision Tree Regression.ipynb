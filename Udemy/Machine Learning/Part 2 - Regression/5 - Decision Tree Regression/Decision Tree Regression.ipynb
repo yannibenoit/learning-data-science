{
 "cells": [
  {
   "cell_type": "markdown",
   "metadata": {},
   "source": [
    "# Decision Tree Regression\n",
    "\n",
    "CART : Classification and Regression Trees, there are two types of decision trees. In this section, we will be focused on the Regression trees. \n",
    "\n",
    "They are a bit more complex than Classification trees.\n",
    "\n",
    "<img src=\"img/0_Intro_Graph.png\" width=\"600\" height=\"300\">\n",
    "\n",
    "If you see the scatter plot above a representation of our dataset .\n",
    "\n",
    "We have 2 independent variables (features X1, X2) to prodict Y (depedent variable) which is in third dimension (projections of all the points).\n",
    "\n",
    "When we run a regression decision tree the scatter will be split up into segments.\n",
    "\n",
    "<img src=\"img/1_Intro_Graph_Split.png\" width=\"600\" height=\"300\">\n",
    "\n",
    "How and when the split are conducted ? This is determined by the algorithm and it involves looking at an information called [\"entropy\"](http://www.saedsayad.com/decision_tree.htm). It means that when I perform the split, is these splits increasing the amount of information that we have about our points. Is it actually adding some value to our way to group the points. \n",
    "\n",
    "The algorithm knows when to stop; its when we can't add more information into the leaves/splits (ex: Stop when you have less than 5% of the total in one leaf)\n",
    "\n",
    "Lets create our Decision tree :\n",
    "\n",
    "The Split started at X1 < 20\n",
    "\n",
    "<img src=\"img/1_Intro_Graph_Split1.png\" width=\"600\" height=\"300\">\n",
    "\n",
    "<img src=\"img/1_Intro_Graph_Split1A.png\" width=\"600\" height=\"300\">\n",
    "\n",
    "Next happens Split 2 which start at point X2 < 170 .\n",
    "\n",
    "<img src=\"img/1_Intro_Graph_Split2.png\" width=\"600\" height=\"300\">\n",
    "\n",
    "<img src=\"img/1_Intro_Graph_Split2A.png\" width=\"600\" height=\"300\">\n",
    "\n",
    "Next Split 3 check if X2 < 200\n",
    "\n",
    "<img src=\"img/1_Intro_Graph_Split3.png\" width=\"600\" height=\"300\">\n",
    "\n",
    "<img src=\"img/1_Intro_Graph_Split3A.png\" width=\"600\" height=\"300\">\n",
    "\n",
    "And for same for Split 4 (x < 40)\n",
    "\n",
    "<img src=\"img/1_Intro_Graph_Split4.png\" width=\"600\" height=\"300\">\n",
    "\n",
    "<img src=\"img/1_Intro_Graph_Split4A.png\" width=\"600\" height=\"300\">\n",
    "\n",
    "How the information (X1 and X2) splitted into leaves will help us to predict Y ?\n",
    "\n",
    "It's pretty straight forward, it will take the average of y  for each terminal leaves.\n",
    "\n",
    "<img src=\"img/1_Intro_Graph_Final.png\" width=\"600\" height=\"300\">\n",
    "\n",
    "<img src=\"img/1_Intro_Graph_FinalA.png\" width=\"600\" height=\"300\">\n",
    "\n",
    "\n",
    "Now let's begin with our example and import our dataset"
   ]
  },
  {
   "cell_type": "code",
   "execution_count": 1,
   "metadata": {},
   "outputs": [
    {
     "name": "stdout",
     "output_type": "stream",
     "text": [
      "            Position  Level   Salary\n",
      "0   Business Analyst      1    45000\n",
      "1  Junior Consultant      2    50000\n",
      "2  Senior Consultant      3    60000\n",
      "3            Manager      4    80000\n",
      "4    Country Manager      5   110000\n",
      "5     Region Manager      6   150000\n",
      "6            Partner      7   200000\n",
      "7     Senior Partner      8   300000\n",
      "8            C-level      9   500000\n",
      "9                CEO     10  1000000\n"
     ]
    },
    {
     "data": {
      "text/plain": [
       "<matplotlib.figure.Figure at 0x3c8f7f0>"
      ]
     },
     "metadata": {},
     "output_type": "display_data"
    }
   ],
   "source": [
    "import numpy as np\n",
    "import matplotlib.pyplot as plt\n",
    "import pandas as pd\n",
    "\n",
    "dataset = pd.read_csv('Position_Salaries.csv')\n",
    "print(dataset)\n",
    "\n",
    "plt.scatter(dataset['Level'], dataset['Salary'])\n",
    "plt.show() "
   ]
  },
  {
   "cell_type": "code",
   "execution_count": 2,
   "metadata": {},
   "outputs": [
    {
     "data": {
      "text/plain": [
       "(array([[ 1],\n",
       "        [ 2],\n",
       "        [ 3],\n",
       "        [ 4],\n",
       "        [ 5],\n",
       "        [ 6],\n",
       "        [ 7],\n",
       "        [ 8],\n",
       "        [ 9],\n",
       "        [10]], dtype=int64),\n",
       " array([  45000,   50000,   60000,   80000,  110000,  150000,  200000,\n",
       "         300000,  500000, 1000000], dtype=int64))"
      ]
     },
     "execution_count": 2,
     "metadata": {},
     "output_type": "execute_result"
    }
   ],
   "source": [
    "X = dataset.iloc[:, 1:2].values\n",
    "y = dataset.iloc[:, 2].values\n",
    "\n",
    "X,y"
   ]
  },
  {
   "cell_type": "code",
   "execution_count": 3,
   "metadata": {},
   "outputs": [
    {
     "data": {
      "text/plain": [
       "DecisionTreeRegressor(criterion='mse', max_depth=None, max_features=None,\n",
       "           max_leaf_nodes=None, min_impurity_decrease=0.0,\n",
       "           min_impurity_split=None, min_samples_leaf=1,\n",
       "           min_samples_split=2, min_weight_fraction_leaf=0.0,\n",
       "           presort=False, random_state=0, splitter='best')"
      ]
     },
     "execution_count": 3,
     "metadata": {},
     "output_type": "execute_result"
    }
   ],
   "source": [
    "# Fitting Decision Tree Regression to the dataset\n",
    "from sklearn.tree import DecisionTreeRegressor\n",
    "regressor = DecisionTreeRegressor(random_state = 0)\n",
    "regressor.fit(X, y)"
   ]
  },
  {
   "cell_type": "code",
   "execution_count": 9,
   "metadata": {},
   "outputs": [
    {
     "data": {
      "text/plain": [
       "150000.0"
      ]
     },
     "execution_count": 9,
     "metadata": {},
     "output_type": "execute_result"
    }
   ],
   "source": [
    "# Predicting a new result\n",
    "y_pred = regressor.predict(6.5)\n",
    "\n",
    "y_pred[0]"
   ]
  },
  {
   "cell_type": "code",
   "execution_count": 10,
   "metadata": {},
   "outputs": [
    {
     "data": {
      "image/png": "[encoded data removed]",
      "text/plain": [
       "<matplotlib.figure.Figure at 0x143ab70>"
      ]
     },
     "metadata": {},
     "output_type": "display_data"
    }
   ],
   "source": [
    "# Visualising the Regression results\n",
    "plt.scatter(X, y, color = 'red')\n",
    "plt.scatter(6.5, y_pred, color = 'green')\n",
    "plt.plot(X, regressor.predict(X), color = 'blue')\n",
    "plt.title('Truth or Bluff (Decision Tree Regression)')\n",
    "plt.xlabel('Position level')\n",
    "plt.ylabel('Salary')\n",
    "plt.show()"
   ]
  },
  {
   "cell_type": "markdown",
   "metadata": {},
   "source": [
    "Now we have a non linear and non continous model that's why the viz above is not correct.\n",
    "\n",
    "The decision tree model is not continuous, so we need to visualize the regression model with a better resolution"
   ]
  },
  {
   "cell_type": "code",
   "execution_count": 13,
   "metadata": {},
   "outputs": [
    {
     "data": {
      "image/png": "[encoded data removed]",
      "text/plain": [
       "<matplotlib.figure.Figure at 0x14fe290>"
      ]
     },
     "metadata": {},
     "output_type": "display_data"
    }
   ],
   "source": [
    "# Visualising the Decision Tree Regression results (higher resolution)\n",
    "X_grid = np.arange(min(X), max(X), 0.01)\n",
    "X_grid = X_grid.reshape((len(X_grid), 1))\n",
    "plt.scatter(X, y, color = 'red')\n",
    "plt.scatter(6.5, y_pred, color = 'green')\n",
    "plt.plot(X_grid, regressor.predict(X_grid), color = 'blue')\n",
    "plt.title('Truth or Bluff (Decision Tree Regression)')\n",
    "plt.xlabel('Position level')\n",
    "plt.ylabel('Salary')\n",
    "plt.show()"
   ]
  },
  {
   "cell_type": "code",
   "execution_count": null,
   "metadata": {},
   "outputs": [],
   "source": []
  }
 ],
 "metadata": {
  "kernelspec": {
   "display_name": "Python 3",
   "language": "python",
   "name": "python3"
  },
  "language_info": {
   "codemirror_mode": {
    "name": "ipython",
    "version": 3
   },
   "file_extension": ".py",
   "mimetype": "text/x-python",
   "name": "python",
   "nbconvert_exporter": "python",
   "pygments_lexer": "ipython3",
   "version": "3.6.3"
  }
 },
 "nbformat": 4,
 "nbformat_minor": 2
}
