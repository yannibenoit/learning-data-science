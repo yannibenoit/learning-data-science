{
 "cells": [
  {
   "cell_type": "markdown",
   "metadata": {},
   "source": [
    "# Kernel SVM\n",
    "\n",
    "Using the SVM algorithm, whats happen when we can't find a boundary (line) ?\n",
    "\n",
    "<img src=\"img/intro.png\" width=\"400\" height=\"400\">\n",
    "\n",
    "This happen because in this case the data is __not lineary separable__.\n",
    "\n",
    "<img src=\"img/intro_2.png\" width=\"400\" height=\"400\">\n",
    "\n",
    "## Mapping to a higher-dimensional space\n",
    "\n",
    "With 1 dimension the boundary(separator) would be point.\n",
    "\n",
    "<img src=\"img/1D.png\" width=\"400\" height=\"400\">\n",
    "\n",
    "Even in this exemple, we can't separate the points.\n",
    "\n",
    "With 2 dimension is a line and 3 an hyperplane etc ...\n",
    "\n",
    "\n",
    "\n"
   ]
  },
  {
   "cell_type": "code",
   "execution_count": null,
   "metadata": {},
   "outputs": [],
   "source": []
  }
 ],
 "metadata": {
  "kernelspec": {
   "display_name": "Python 3",
   "language": "python",
   "name": "python3"
  },
  "language_info": {
   "codemirror_mode": {
    "name": "ipython",
    "version": 3
   },
   "file_extension": ".py",
   "mimetype": "text/x-python",
   "name": "python",
   "nbconvert_exporter": "python",
   "pygments_lexer": "ipython3",
   "version": "3.6.3"
  }
 },
 "nbformat": 4,
 "nbformat_minor": 2
}
